{
 "cells": [
  {
   "cell_type": "code",
   "execution_count": 1,
   "metadata": {},
   "outputs": [
    {
     "data": {
      "text/plain": [
       "'/home/gf/src/Python/Python-in-the-lab/Bk'"
      ]
     },
     "execution_count": 1,
     "metadata": {},
     "output_type": "execute_result"
    }
   ],
   "source": [
    "import os\n",
    "os.chdir(\"/home/gf/src/Python/Python-in-the-lab/Bk\") # Insert here your directory. Windows should have \"\\\" instead of \"/\"\n",
    "os.path.abspath(\".\")"
   ]
  },
  {
   "cell_type": "code",
   "execution_count": 2,
   "metadata": {},
   "outputs": [],
   "source": [
    "filename = \"F64ac_0.02_T.dat\""
   ]
  },
  {
   "cell_type": "markdown",
   "metadata": {},
   "source": [
    "Ok, I did lecture 1 so...\n",
    "Can we now open the file, please?"
   ]
  },
  {
   "cell_type": "markdown",
   "metadata": {},
   "source": [
    "## Method 1: hard rock"
   ]
  },
  {
   "cell_type": "code",
   "execution_count": 3,
   "metadata": {},
   "outputs": [],
   "source": [
    "f = open(filename) # We need to be in the directory containing the file\n",
    "data = f.readlines()\n",
    "f.close() # MANDATORY, do not forget!"
   ]
  },
  {
   "cell_type": "code",
   "execution_count": 4,
   "metadata": {},
   "outputs": [
    {
     "data": {
      "text/plain": [
       "['5.01924E-006 0\\n',\n",
       " '6.31885E-006 0\\n',\n",
       " '7.95496E-006 0\\n',\n",
       " '1.00147E-005 0\\n',\n",
       " '1.26078E-005 0\\n',\n",
       " '1.58722E-005 0\\n',\n",
       " '1.9982E-005 0\\n',\n",
       " '2.51558E-005 0\\n',\n",
       " '3.16693E-005 0\\n',\n",
       " '3.98693E-005 509496\\n']"
      ]
     },
     "execution_count": 4,
     "metadata": {},
     "output_type": "execute_result"
    }
   ],
   "source": [
    "data[:10] # Let's printthe first 10 lines"
   ]
  },
  {
   "cell_type": "markdown",
   "metadata": {},
   "source": [
    "It looks like a list of two columns of numbers, with boaring elements like \"\\\\n\". Not very efficient!"
   ]
  },
  {
   "cell_type": "markdown",
   "metadata": {},
   "source": [
    "### How can we get the numbers as two columns x and y?"
   ]
  },
  {
   "cell_type": "code",
   "execution_count": 5,
   "metadata": {},
   "outputs": [
    {
     "ename": "ValueError",
     "evalue": "not enough values to unpack (expected 2, got 0)",
     "output_type": "error",
     "traceback": [
      "\u001b[1;31m---------------------------------------------------------------------------\u001b[0m",
      "\u001b[1;31mValueError\u001b[0m                                Traceback (most recent call last)",
      "\u001b[1;32m<ipython-input-5-290e63ce2a10>\u001b[0m in \u001b[0;36m<module>\u001b[1;34m\u001b[0m\n\u001b[0;32m      1\u001b[0m \u001b[0mcol0\u001b[0m\u001b[1;33m,\u001b[0m \u001b[0mcol1\u001b[0m \u001b[1;33m=\u001b[0m \u001b[1;33m[\u001b[0m\u001b[1;33m]\u001b[0m\u001b[1;33m,\u001b[0m \u001b[1;33m[\u001b[0m\u001b[1;33m]\u001b[0m \u001b[1;31m# Empty list\u001b[0m\u001b[1;33m\u001b[0m\u001b[1;33m\u001b[0m\u001b[0m\n\u001b[0;32m      2\u001b[0m \u001b[1;32mfor\u001b[0m \u001b[0mrow\u001b[0m \u001b[1;32min\u001b[0m \u001b[0mdata\u001b[0m\u001b[1;33m:\u001b[0m\u001b[1;33m\u001b[0m\u001b[1;33m\u001b[0m\u001b[0m\n\u001b[1;32m----> 3\u001b[1;33m     \u001b[0mc0\u001b[0m\u001b[1;33m,\u001b[0m \u001b[0mc1\u001b[0m \u001b[1;33m=\u001b[0m \u001b[0mrow\u001b[0m\u001b[1;33m.\u001b[0m\u001b[0msplit\u001b[0m\u001b[1;33m(\u001b[0m\u001b[1;33m)\u001b[0m \u001b[1;31m# Get rid of spaces, and return characters, etc...\u001b[0m\u001b[1;33m\u001b[0m\u001b[1;33m\u001b[0m\u001b[0m\n\u001b[0m\u001b[0;32m      4\u001b[0m     \u001b[0mc0\u001b[0m\u001b[1;33m,\u001b[0m \u001b[0mc1\u001b[0m \u001b[1;33m=\u001b[0m \u001b[0mfloat\u001b[0m\u001b[1;33m(\u001b[0m\u001b[0mc0\u001b[0m\u001b[1;33m)\u001b[0m\u001b[1;33m,\u001b[0m \u001b[0mfloat\u001b[0m\u001b[1;33m(\u001b[0m\u001b[0mc1\u001b[0m\u001b[1;33m)\u001b[0m \u001b[1;31m# Att. c0,c1 = float(line.split()) does not work\u001b[0m\u001b[1;33m\u001b[0m\u001b[1;33m\u001b[0m\u001b[0m\n\u001b[0;32m      5\u001b[0m     \u001b[0mcol0\u001b[0m\u001b[1;33m.\u001b[0m\u001b[0mappend\u001b[0m\u001b[1;33m(\u001b[0m\u001b[0mc0\u001b[0m\u001b[1;33m)\u001b[0m\u001b[1;33m\u001b[0m\u001b[1;33m\u001b[0m\u001b[0m\n",
      "\u001b[1;31mValueError\u001b[0m: not enough values to unpack (expected 2, got 0)"
     ]
    }
   ],
   "source": [
    "col0, col1 = [], [] # Empty list\n",
    "for row in data:\n",
    "    c0, c1 = row.split() # Get rid of spaces, and return characters, etc...\n",
    "    c0, c1 = float(c0), float(c1) # Att. c0,c1 = float(line.split()) does not work\n",
    "    col0.append(c0)\n",
    "    col1.append(c1)\n",
    "# Ohhhh, what's wrong????"
   ]
  },
  {
   "cell_type": "code",
   "execution_count": 7,
   "metadata": {},
   "outputs": [
    {
     "data": {
      "text/plain": [
       "'\\n'"
      ]
     },
     "execution_count": 7,
     "metadata": {},
     "output_type": "execute_result"
    }
   ],
   "source": [
    "row\n",
    "# Eh?"
   ]
  },
  {
   "cell_type": "code",
   "execution_count": 8,
   "metadata": {},
   "outputs": [
    {
     "data": {
      "text/plain": [
       "['0.19982 0\\n', '0.251558 0\\n', '0.316693 0\\n', '0.398693 0\\n', '\\n']"
      ]
     },
     "execution_count": 8,
     "metadata": {},
     "output_type": "execute_result"
    }
   ],
   "source": [
    "data[-5:]"
   ]
  },
  {
   "cell_type": "code",
   "execution_count": 9,
   "metadata": {},
   "outputs": [],
   "source": [
    "col0, col1 = [], [] # Empty list\n",
    "for row in data[:-1]:\n",
    "    c0, c1 = row.split() # Get rid of spaces, and return characters, etc...\n",
    "    c0, c1 = float(c0), float(c1) # Att. c0,c1 = float(line.split()) does not work\n",
    "    col0.append(c0)\n",
    "    col1.append(c1)\n",
    "# Cool..."
   ]
  },
  {
   "cell_type": "code",
   "execution_count": 10,
   "metadata": {},
   "outputs": [
    {
     "data": {
      "text/plain": [
       "(float, 5.01924e-06)"
      ]
     },
     "execution_count": 10,
     "metadata": {},
     "output_type": "execute_result"
    }
   ],
   "source": [
    "type(col0[0]), col0[0]"
   ]
  },
  {
   "cell_type": "markdown",
   "metadata": {},
   "source": [
    "### Using the list comprehension\n",
    "\n",
    "https://docs.python.org/3/tutorial/datastructures.html#list-comprehensions"
   ]
  },
  {
   "cell_type": "code",
   "execution_count": 11,
   "metadata": {},
   "outputs": [
    {
     "data": {
      "text/plain": [
       "[['5.01924E-006', '0'],\n",
       " ['6.31885E-006', '0'],\n",
       " ['7.95496E-006', '0'],\n",
       " ['1.00147E-005', '0'],\n",
       " ['1.26078E-005', '0'],\n",
       " ['1.58722E-005', '0'],\n",
       " ['1.9982E-005', '0'],\n",
       " ['2.51558E-005', '0'],\n",
       " ['3.16693E-005', '0'],\n",
       " ['3.98693E-005', '509496']]"
      ]
     },
     "execution_count": 11,
     "metadata": {},
     "output_type": "execute_result"
    }
   ],
   "source": [
    "# I make a loop of the rows first, splitting the two numbers\n",
    "[row.split() for row in data[:-1]][:10]"
   ]
  },
  {
   "cell_type": "code",
   "execution_count": 12,
   "metadata": {},
   "outputs": [
    {
     "name": "stdout",
     "output_type": "stream",
     "text": [
      "[5.01924e-06, 0.0, 6.31885e-06, 0.0, 7.95496e-06, 0.0, 1.00147e-05, 0.0, 1.26078e-05, 0.0]\n"
     ]
    }
   ],
   "source": [
    "# Now I use the two numbers from the row.split()\n",
    "q = [float(c) for row in data[:-1] for c in row.split()] # This is a long list\n",
    "print(q[:10])"
   ]
  },
  {
   "cell_type": "markdown",
   "metadata": {},
   "source": [
    "### Ah, ah, we are close: wouldn't it be nice to make a two cols array just reshaping?"
   ]
  },
  {
   "cell_type": "markdown",
   "metadata": {},
   "source": [
    "## Welcome numpy and numpy array!"
   ]
  },
  {
   "cell_type": "code",
   "execution_count": 13,
   "metadata": {},
   "outputs": [
    {
     "data": {
      "text/plain": [
       "array([[5.01924e-06, 0.00000e+00],\n",
       "       [6.31885e-06, 0.00000e+00],\n",
       "       [7.95496e-06, 0.00000e+00],\n",
       "       [1.00147e-05, 0.00000e+00],\n",
       "       [1.26078e-05, 0.00000e+00],\n",
       "       [1.58722e-05, 0.00000e+00],\n",
       "       [1.99820e-05, 0.00000e+00],\n",
       "       [2.51558e-05, 0.00000e+00],\n",
       "       [3.16693e-05, 0.00000e+00],\n",
       "       [3.98693e-05, 5.09496e+05]])"
      ]
     },
     "execution_count": 13,
     "metadata": {},
     "output_type": "execute_result"
    }
   ],
   "source": [
    "# Everything can be done in a single line \n",
    "import numpy as np\n",
    "d = np.array([float(c) for row in data[:-1] for c in row.split()]).reshape((-1,2))\n",
    "d[:10]"
   ]
  },
  {
   "cell_type": "markdown",
   "metadata": {},
   "source": [
    "### Man, you are too fast, I did not understand."
   ]
  },
  {
   "cell_type": "code",
   "execution_count": 14,
   "metadata": {},
   "outputs": [
    {
     "data": {
      "text/plain": [
       "array([[5.01924e-06, 0.00000e+00],\n",
       "       [6.31885e-06, 0.00000e+00],\n",
       "       [7.95496e-06, 0.00000e+00],\n",
       "       [1.00147e-05, 0.00000e+00],\n",
       "       [1.26078e-05, 0.00000e+00],\n",
       "       [1.58722e-05, 0.00000e+00],\n",
       "       [1.99820e-05, 0.00000e+00],\n",
       "       [2.51558e-05, 0.00000e+00],\n",
       "       [3.16693e-05, 0.00000e+00],\n",
       "       [3.98693e-05, 5.09496e+05]])"
      ]
     },
     "execution_count": 14,
     "metadata": {},
     "output_type": "execute_result"
    }
   ],
   "source": [
    "# As a list cannot be reshaped, we do it using numpy array\n",
    "q = [float(c) for row in data[:-1] for c in row.split()] # This is a long list\n",
    "q = np.array(q)\n",
    "# Now I can reshape using two columns. I do not know how many rows are present, so I put -1\n",
    "q = q.reshape(-1,2)\n",
    "q[:10]"
   ]
  },
  {
   "cell_type": "code",
   "execution_count": 15,
   "metadata": {},
   "outputs": [
    {
     "data": {
      "text/plain": [
       "array([[5.01924e-06, 0.00000e+00],\n",
       "       [6.31885e-06, 0.00000e+00],\n",
       "       [7.95496e-06, 0.00000e+00],\n",
       "       [1.00147e-05, 0.00000e+00],\n",
       "       [1.26078e-05, 0.00000e+00],\n",
       "       [1.58722e-05, 0.00000e+00],\n",
       "       [1.99820e-05, 0.00000e+00],\n",
       "       [2.51558e-05, 0.00000e+00],\n",
       "       [3.16693e-05, 0.00000e+00],\n",
       "       [3.98693e-05, 5.09496e+05]])"
      ]
     },
     "execution_count": 15,
     "metadata": {},
     "output_type": "execute_result"
    }
   ],
   "source": [
    "# In a single line\n",
    "q = np.array([float(c) for row in data[:-1] for c in row.split()]).reshape(-1,2)\n",
    "q[:10]"
   ]
  },
  {
   "cell_type": "markdown",
   "metadata": {},
   "source": [
    "### Clear now?"
   ]
  },
  {
   "cell_type": "code",
   "execution_count": 16,
   "metadata": {},
   "outputs": [],
   "source": [
    "# Now I need to horizontally split the array in two\n",
    "x, y = np.hsplit(q,2)\n",
    "# or simply call the two columns\n",
    "x, y = q[:,0], q[:,1]"
   ]
  },
  {
   "cell_type": "markdown",
   "metadata": {},
   "source": [
    "## Method 2: a little less hard rock"
   ]
  },
  {
   "cell_type": "code",
   "execution_count": 17,
   "metadata": {},
   "outputs": [],
   "source": [
    "with open(filename) as f:\n",
    "    data = f.readlines()\n",
    "# NO NEED TO CLOSE THE FILE, IT IS AUTOMATIC\n",
    "# data as above\n",
    "q = np.array([float(c) for row in data[:-1] for c in row.split()]).reshape((-1,2))\n",
    "x, y = np.hsplit(q,2)"
   ]
  },
  {
   "cell_type": "markdown",
   "metadata": {},
   "source": [
    "## Method 3: the pythonic way"
   ]
  },
  {
   "cell_type": "code",
   "execution_count": 18,
   "metadata": {},
   "outputs": [],
   "source": [
    "data = np.loadtxt(filename) # Exercise: explore the loadtxt help or check on the numpy website"
   ]
  },
  {
   "cell_type": "code",
   "execution_count": 19,
   "metadata": {},
   "outputs": [
    {
     "data": {
      "text/plain": [
       "numpy.ndarray"
      ]
     },
     "execution_count": 19,
     "metadata": {},
     "output_type": "execute_result"
    }
   ],
   "source": [
    "type(data)"
   ]
  },
  {
   "cell_type": "code",
   "execution_count": 20,
   "metadata": {},
   "outputs": [
    {
     "data": {
      "text/plain": [
       "(50, 2)"
      ]
     },
     "execution_count": 20,
     "metadata": {},
     "output_type": "execute_result"
    }
   ],
   "source": [
    "data.shape"
   ]
  },
  {
   "cell_type": "code",
   "execution_count": 21,
   "metadata": {},
   "outputs": [
    {
     "data": {
      "text/plain": [
       "100"
      ]
     },
     "execution_count": 21,
     "metadata": {},
     "output_type": "execute_result"
    }
   ],
   "source": [
    "data.size"
   ]
  },
  {
   "cell_type": "code",
   "execution_count": 22,
   "metadata": {},
   "outputs": [
    {
     "data": {
      "text/plain": [
       "array([[5.01924e-06, 0.00000e+00],\n",
       "       [6.31885e-06, 0.00000e+00],\n",
       "       [7.95496e-06, 0.00000e+00],\n",
       "       [1.00147e-05, 0.00000e+00],\n",
       "       [1.26078e-05, 0.00000e+00],\n",
       "       [1.58722e-05, 0.00000e+00],\n",
       "       [1.99820e-05, 0.00000e+00],\n",
       "       [2.51558e-05, 0.00000e+00],\n",
       "       [3.16693e-05, 0.00000e+00],\n",
       "       [3.98693e-05, 5.09496e+05]])"
      ]
     },
     "execution_count": 22,
     "metadata": {},
     "output_type": "execute_result"
    }
   ],
   "source": [
    "data[:10] # it's a 2D array: where is the other axis???"
   ]
  },
  {
   "cell_type": "code",
   "execution_count": 23,
   "metadata": {},
   "outputs": [
    {
     "data": {
      "text/plain": [
       "5.01924e-06"
      ]
     },
     "execution_count": 23,
     "metadata": {},
     "output_type": "execute_result"
    }
   ],
   "source": [
    "data[0,0] # sounds familiar?"
   ]
  },
  {
   "cell_type": "code",
   "execution_count": 24,
   "metadata": {},
   "outputs": [],
   "source": [
    "x, y = data[:,0], data[:,1] #or\n",
    "x, y = np.hsplit(data,2)"
   ]
  },
  {
   "cell_type": "markdown",
   "metadata": {},
   "source": [
    "## Method 4: the real best pythonic way"
   ]
  },
  {
   "cell_type": "code",
   "execution_count": 25,
   "metadata": {},
   "outputs": [],
   "source": [
    "# Isn't a better and faster way to do it? It's python!\n",
    "x, y = np.loadtxt(filename, unpack=True) #Uauu, isn't it nice?"
   ]
  },
  {
   "cell_type": "markdown",
   "metadata": {},
   "source": [
    "In the *hard rock* case we use many lines (it was an excuse to learn something else, of course). Here everything is in one line: this happens very often and is called refactoring: find the best, clearest and shortest code"
   ]
  },
  {
   "cell_type": "code",
   "execution_count": 26,
   "metadata": {},
   "outputs": [],
   "source": [
    "x,y = np.genfromtxt(filename, unpack=True) # This works too. Check the documentation\n",
    "# https://docs.scipy.org/doc/numpy/user/basics.io.genfromtxt.html\n"
   ]
  },
  {
   "cell_type": "markdown",
   "metadata": {},
   "source": [
    "#### Homework: explore the differences between loadtxt and genfromtxt"
   ]
  },
  {
   "cell_type": "markdown",
   "metadata": {},
   "source": [
    "# Ok, stop: plot, please!"
   ]
  },
  {
   "cell_type": "code",
   "execution_count": 27,
   "metadata": {},
   "outputs": [
    {
     "data": {
      "text/plain": [
       "[<matplotlib.lines.Line2D at 0x7fd37cee1908>]"
      ]
     },
     "execution_count": 27,
     "metadata": {},
     "output_type": "execute_result"
    },
    {
     "data": {
      "image/png": "[encoded data removed]",
      "text/plain": [
       "<Figure size 432x288 with 1 Axes>"
      ]
     },
     "metadata": {
      "needs_background": "light"
     },
     "output_type": "display_data"
    }
   ],
   "source": [
    "import matplotlib.pyplot as plt\n",
    "%matplotlib inline\n",
    "plt.plot(x,y)"
   ]
  },
  {
   "cell_type": "markdown",
   "metadata": {},
   "source": [
    "Oh, man! You are joking!\n",
    "\n",
    "I try myself... let me think... a little more... ok, found"
   ]
  },
  {
   "cell_type": "code",
   "execution_count": 28,
   "metadata": {},
   "outputs": [
    {
     "data": {
      "image/png": "[encoded data removed]",
      "text/plain": [
       "<Figure size 432x288 with 1 Axes>"
      ]
     },
     "metadata": {
      "needs_background": "light"
     },
     "output_type": "display_data"
    }
   ],
   "source": [
    "plt.loglog(x,y); "
   ]
  },
  {
   "cell_type": "code",
   "execution_count": 29,
   "metadata": {
    "scrolled": true
   },
   "outputs": [
    {
     "data": {
      "image/png": "[encoded data removed]",
      "text/plain": [
       "<Figure size 432x288 with 1 Axes>"
      ]
     },
     "metadata": {
      "needs_background": "light"
     },
     "output_type": "display_data"
    }
   ],
   "source": [
    "# I prefer dots, please\n",
    "plt.loglog(x,y,'o'); # suppress the output ;"
   ]
  },
  {
   "cell_type": "markdown",
   "metadata": {},
   "source": [
    "## Problem n. 2\n",
    "### How can we plot all the files F64ac_someFreq_T.dat at different frequencies with a nice label etc etc???"
   ]
  },
  {
   "cell_type": "code",
   "execution_count": 30,
   "metadata": {},
   "outputs": [
    {
     "data": {
      "text/plain": [
       "['F64ac_0.03_time_V_T.dat',\n",
       " 'F64ac_0.02_ave_S_vs_T.dat',\n",
       " 'F64ac_0.02_T.dat',\n",
       " 'F64ac_0.03_T.dat',\n",
       " 'F64ac_0.01_time_V_T.dat',\n",
       " 'F64ac_0.03_ave_S_vs_T.dat',\n",
       " 'F64ac_0.02_time_V_T.dat',\n",
       " 'F64ac_0.01_T.dat',\n",
       " 'F64ac_0.01_ave_S_vs_T.dat']"
      ]
     },
     "execution_count": 30,
     "metadata": {},
     "output_type": "execute_result"
    }
   ],
   "source": [
    "# Let's find a pattern in the filename we are interested in\n",
    "import glob\n",
    "glob.glob(\"F64ac_*_T.dat\")"
   ]
  },
  {
   "cell_type": "markdown",
   "metadata": {},
   "source": [
    "Oh, too many! \n",
    "\n",
    "The \"*\" takes an arbitrary number of data\n",
    "One or two only?"
   ]
  },
  {
   "cell_type": "code",
   "execution_count": 31,
   "metadata": {},
   "outputs": [
    {
     "data": {
      "text/plain": [
       "['F64ac_0.02_T.dat', 'F64ac_0.03_T.dat', 'F64ac_0.01_T.dat']"
      ]
     },
     "execution_count": 31,
     "metadata": {},
     "output_type": "execute_result"
    }
   ],
   "source": [
    "glob.glob(\"F64ac_0.??_T.dat\") # cool"
   ]
  },
  {
   "cell_type": "markdown",
   "metadata": {},
   "source": [
    "An unordered list, by the way"
   ]
  },
  {
   "cell_type": "code",
   "execution_count": 32,
   "metadata": {},
   "outputs": [
    {
     "data": {
      "text/plain": [
       "['F64ac_0.01_T.dat', 'F64ac_0.02_T.dat', 'F64ac_0.03_T.dat']"
      ]
     },
     "execution_count": 32,
     "metadata": {},
     "output_type": "execute_result"
    }
   ],
   "source": [
    "filenames = sorted(glob.glob(\"F64ac_0.0?_T.dat\")) # nice\n",
    "filenames"
   ]
  },
  {
   "cell_type": "markdown",
   "metadata": {},
   "source": [
    "Can I plot them all together?"
   ]
  },
  {
   "cell_type": "code",
   "execution_count": 33,
   "metadata": {},
   "outputs": [
    {
     "data": {
      "text/plain": [
       "<matplotlib.legend.Legend at 0x7fd37cd98b70>"
      ]
     },
     "execution_count": 33,
     "metadata": {},
     "output_type": "execute_result"
    },
    {
     "data": {
      "image/png": "[encoded data removed]",
      "text/plain": [
       "<Figure size 432x288 with 1 Axes>"
      ]
     },
     "metadata": {
      "needs_background": "light"
     },
     "output_type": "display_data"
    }
   ],
   "source": [
    "# Sure\n",
    "for filename in filenames:\n",
    "    x, y = np.loadtxt(filename,unpack=True)\n",
    "    # Let's extract the frequency value to make a legend\n",
    "    material, freq, meas = filename.split(\"_\")\n",
    "    lb = \"{0} Hz\".format(freq)\n",
    "    plt.loglog(x,y,'o',label=lb) # I use the same plot\n",
    "plt.legend(numpoints=1)"
   ]
  },
  {
   "cell_type": "markdown",
   "metadata": {},
   "source": [
    "### Stop, man, I do not understand the logic!\n",
    "How does it know to put the new data in the same plot?\n",
    "\n",
    "(teacher) Hem, it uses the same figure...\n",
    "\n",
    "Oh, I see, but we did not tell him to make a figure, at least, explicity... Does it do something behind the curtain?\n",
    "\n",
    "(teacher) Very good point! *Explicit is better than implicit!*"
   ]
  },
  {
   "cell_type": "code",
   "execution_count": 46,
   "metadata": {},
   "outputs": [
    {
     "data": {
      "text/plain": [
       "<matplotlib.legend.Legend at 0x7fd37c1be2b0>"
      ]
     },
     "execution_count": 46,
     "metadata": {},
     "output_type": "execute_result"
    },
    {
     "data": {
      "image/png": "[encoded data removed]",
      "text/plain": [
       "<Figure size 432x288 with 1 Axes>"
      ]
     },
     "metadata": {
      "needs_background": "light"
     },
     "output_type": "display_data"
    }
   ],
   "source": [
    "# Let's declare the figure, then add a (sub)plot\n",
    "fig = plt.figure()\n",
    "ax = fig.add_subplot(111) # 111 stands for: 1 row, 1 colums, fig n. 1\n",
    "for filename in filenames:\n",
    "    x, y = np.loadtxt(filename,unpack=True)\n",
    "    # Let's extract the frequency value to make a legend\n",
    "    material, freq, meas = filename.split(\"_\")\n",
    "    lb = \"{0} Hz\".format(freq)\n",
    "    ax.loglog(x,y,'o',label=lb) # I use the same plot, explicitly\n",
    "# plt.legend(numpoints=1);\n",
    "ax.legend(numpoints=1)"
   ]
  },
  {
   "cell_type": "code",
   "execution_count": 47,
   "metadata": {},
   "outputs": [
    {
     "data": {
      "image/png": "[encoded data removed]",
      "text/plain": [
       "<Figure size 432x288 with 1 Axes>"
      ]
     },
     "metadata": {
      "needs_background": "light"
     },
     "output_type": "display_data"
    }
   ],
   "source": [
    "# My boss wants the error bars... :(\n",
    "fig = plt.figure()\n",
    "ax = fig.add_subplot(111)\n",
    "for filename in filenames:\n",
    "    x, y = np.loadtxt(filename,unpack=True)\n",
    "    yerr = y * 0.6\n",
    "    material, freq, meas = filename.split(\"_\")\n",
    "    lb = \"{0} Hz\".format(freq)\n",
    "    ax.loglog(x,y,'o',label=lb) \n",
    "    ax.errorbar(x,y,yerr,fmt=\"\",ecolor='k')\n",
    "ax.legend();"
   ]
  },
  {
   "cell_type": "markdown",
   "metadata": {},
   "source": [
    "Oh, the autoscale does not work! Or does it?\n",
    "Better to check the data"
   ]
  },
  {
   "cell_type": "code",
   "execution_count": 36,
   "metadata": {},
   "outputs": [
    {
     "data": {
      "text/plain": [
       "array([     0.,      0.,      0.,      0.,      0.,      0.,      0.,\n",
       "            0.,      0., 281709.])"
      ]
     },
     "execution_count": 36,
     "metadata": {},
     "output_type": "execute_result"
    }
   ],
   "source": [
    "y[:10]"
   ]
  },
  {
   "cell_type": "markdown",
   "metadata": {},
   "source": [
    "Oh, it is full of zero values. Can we get rid of them?"
   ]
  },
  {
   "cell_type": "code",
   "execution_count": 37,
   "metadata": {},
   "outputs": [
    {
     "data": {
      "text/plain": [
       "array([False, False, False, False, False, False, False, False, False,\n",
       "        True, False,  True,  True,  True,  True,  True,  True,  True,\n",
       "        True,  True,  True,  True,  True,  True,  True,  True,  True,\n",
       "        True,  True,  True,  True,  True,  True,  True,  True,  True,\n",
       "        True,  True,  True, False, False, False, False, False, False,\n",
       "       False, False, False, False, False])"
      ]
     },
     "execution_count": 37,
     "metadata": {},
     "output_type": "execute_result"
    }
   ],
   "source": [
    "is_not_zero = y!=0 # Breath first\n",
    "is_not_zero"
   ]
  },
  {
   "cell_type": "code",
   "execution_count": 38,
   "metadata": {},
   "outputs": [
    {
     "data": {
      "text/plain": [
       "array([2.81709e+05, 4.79296e+04, 1.81690e+04, 8.39005e+03, 4.32740e+03,\n",
       "       4.32954e+03, 2.10176e+03, 1.58280e+03, 8.39195e+02, 7.36124e+02,\n",
       "       3.91619e+02, 2.96808e+02, 2.19558e+02, 1.38495e+02, 1.17083e+02,\n",
       "       7.62096e+01, 5.55879e+01, 3.80288e+01, 2.62899e+01, 1.52914e+01,\n",
       "       9.44287e+00, 4.95448e+00, 2.13223e+00, 8.80718e-01, 2.38318e-01,\n",
       "       1.09918e-01, 3.88048e-02, 1.54119e-02, 6.12104e-03])"
      ]
     },
     "execution_count": 38,
     "metadata": {},
     "output_type": "execute_result"
    }
   ],
   "source": [
    "# Ok let me redefine x and y\n",
    "x, y = x[is_not_zero], y[is_not_zero]\n",
    "y"
   ]
  },
  {
   "cell_type": "code",
   "execution_count": 48,
   "metadata": {},
   "outputs": [
    {
     "data": {
      "image/png": "[encoded data removed]",
      "text/plain": [
       "<Figure size 432x288 with 1 Axes>"
      ]
     },
     "metadata": {
      "needs_background": "light"
     },
     "output_type": "display_data"
    }
   ],
   "source": [
    "fig = plt.figure()\n",
    "ax = fig.add_subplot(111)\n",
    "for filename in filenames:\n",
    "    x, y = np.loadtxt(filename,unpack=True)\n",
    "    is_not_zero = y!=0\n",
    "    x, y = x[is_not_zero], y[is_not_zero]\n",
    "    yerr = y * 0.5\n",
    "    material, freq, meas = filename.split(\"_\")\n",
    "    lb = \"{0} Hz\".format(freq)\n",
    "    ax.loglog(x,y,'o',label=freq)\n",
    "    ax.errorbar(x,y,yerr,fmt=\"none\",ecolor='k')\n",
    "ax.legend();"
   ]
  },
  {
   "cell_type": "code",
   "execution_count": 51,
   "metadata": {},
   "outputs": [
    {
     "data": {
      "text/plain": [
       "Text(0.5, 1.0, 'Test 1')"
      ]
     },
     "execution_count": 51,
     "metadata": {},
     "output_type": "execute_result"
    },
    {
     "data": {
      "image/png": "[encoded data removed]",
      "text/plain": [
       "<Figure size 432x288 with 1 Axes>"
      ]
     },
     "metadata": {
      "needs_background": "light"
     },
     "output_type": "display_data"
    }
   ],
   "source": [
    "# Ok, boss, hold on, let me finish....\n",
    "fig = plt.figure()\n",
    "ax = fig.add_subplot(111)\n",
    "for filename in filenames:\n",
    "    x, y = np.loadtxt(filename,unpack=True)\n",
    "    is_not_zero = y!=0\n",
    "    x, y = x[is_not_zero], y[is_not_zero]\n",
    "    yerr = y * 0.5  \n",
    "    material, freq, meas = filename.split(\"_\")\n",
    "    lb = \"{0} Hz\".format(freq)\n",
    "    ax.loglog(x,y,'o',label=lb) \n",
    "    ax.errorbar(x,y,yerr,fmt=\"none\",ecolor='k')\n",
    "ax.legend()\n",
    "ax.set_xlabel(\"$T$\", size=24)\n",
    "ax.set_ylabel(\"$\\omega^2 T$\", size=24)\n",
    "ax.annotate(\"$\\sum_i^\\infty x_i$\", (5e-5,.05), size=18)\n",
    "ax.set_title(\"Test 1\")"
   ]
  },
  {
   "cell_type": "markdown",
   "metadata": {},
   "source": [
    "There is a little problem here, small, but it is better to solve it\n",
    "\n",
    "The error bar has a different color than the dots....\n",
    "here a solution"
   ]
  },
  {
   "cell_type": "code",
   "execution_count": 52,
   "metadata": {},
   "outputs": [
    {
     "data": {
      "text/plain": [
       "Text(0.5, 1.0, 'Test 1')"
      ]
     },
     "execution_count": 52,
     "metadata": {},
     "output_type": "execute_result"
    },
    {
     "data": {
      "image/png": "[encoded data removed]",
      "text/plain": [
       "<Figure size 432x288 with 1 Axes>"
      ]
     },
     "metadata": {
      "needs_background": "light"
     },
     "output_type": "display_data"
    }
   ],
   "source": [
    "# Error bar with the right color\n",
    "fig = plt.figure()\n",
    "ax = fig.add_subplot(111)\n",
    "ax.set_xscale(\"log\")\n",
    "ax.set_yscale(\"log\")\n",
    "for filename in filenames:\n",
    "    x, y = np.loadtxt(filename,unpack=True)\n",
    "    is_not_zero = y!=0\n",
    "    x, y = x[is_not_zero], y[is_not_zero]\n",
    "    yerr = y * 0.8 \n",
    "    material, freq, meas = filename.split(\"_\")\n",
    "    lb = \"{0} Hz\".format(freq)\n",
    "    # ax.loglog(x,y,'o',label=lb) \n",
    "    ax.errorbar(x,y,yerr,fmt=\"o\", label=lb)\n",
    "ax.legend()\n",
    "ax.set_xlabel(\"$T$\", size=24)\n",
    "ax.set_ylabel(\"$\\omega^2 T$\", size=24)\n",
    "ax.annotate(\"$\\sum_i^\\infty x_i$\", (5e-5,.05), size=18)\n",
    "ax.set_title(\"Test 1\")"
   ]
  },
  {
   "cell_type": "markdown",
   "metadata": {},
   "source": [
    "### How can we add different markers?"
   ]
  },
  {
   "cell_type": "code",
   "execution_count": null,
   "metadata": {},
   "outputs": [],
   "source": [
    "# Further points can be found here: http://matplotlib.org/api/markers_api.html\n",
    "# Here: http://matplotlib.org/1.3.1/examples/pylab_examples/line_styles.html\n",
    "# and here: http://matplotlib.org/examples/lines_bars_and_markers/marker_reference.html"
   ]
  },
  {
   "cell_type": "code",
   "execution_count": 55,
   "metadata": {},
   "outputs": [],
   "source": [
    "markers = ['o','p','s','<','>','8','v','d','D']*2"
   ]
  },
  {
   "cell_type": "code",
   "execution_count": 59,
   "metadata": {},
   "outputs": [
    {
     "data": {
      "text/plain": [
       "Text(0.5, 1.0, 'Test 1')"
      ]
     },
     "execution_count": 59,
     "metadata": {},
     "output_type": "execute_result"
    },
    {
     "data": {
      "image/png": "[encoded data removed]",
      "text/plain": [
       "<Figure size 432x288 with 1 Axes>"
      ]
     },
     "metadata": {
      "needs_background": "light"
     },
     "output_type": "display_data"
    }
   ],
   "source": [
    "# Problem: how can we use this list of markers in our plot? \n",
    "# There are different options\n",
    "# This is not too bad. Let's use enumerate which gives us an index automatically\n",
    "fig = plt.figure()\n",
    "ax = fig.add_subplot(111)\n",
    "ax.set_xscale(\"log\")\n",
    "ax.set_yscale(\"log\")\n",
    "for i,filename in enumerate(filenames):\n",
    "    x, y = np.loadtxt(filename,unpack=True)\n",
    "    is_not_zero = y!=0\n",
    "    x, y = x[is_not_zero], y[is_not_zero]\n",
    "    yerr = y * 0.8\n",
    "    material, freq, meas = filename.split(\"_\")\n",
    "    lb = \"{0} Hz\".format(freq)\n",
    "    ax.errorbar(x,y,yerr,fmt=markers[i],label=lb)    \n",
    "ax.legend()\n",
    "ax.set_xlabel(\"$T$\", size=24)\n",
    "ax.set_ylabel(\"$\\omega^2 T$\", size=24)\n",
    "ax.annotate(\"$\\sum_i^\\infty x_i$\", (5e-5,.05), size=18)\n",
    "ax.set_title(\"Test 1\")"
   ]
  },
  {
   "cell_type": "code",
   "execution_count": 62,
   "metadata": {
    "scrolled": true
   },
   "outputs": [
    {
     "data": {
      "text/plain": [
       "Text(0.5, 1.0, 'Test 1')"
      ]
     },
     "execution_count": 62,
     "metadata": {},
     "output_type": "execute_result"
    },
    {
     "data": {
      "image/png": "[encoded data removed]",
      "text/plain": [
       "<Figure size 432x288 with 1 Axes>"
      ]
     },
     "metadata": {
      "needs_background": "light"
     },
     "output_type": "display_data"
    }
   ],
   "source": [
    "# This is also nice, and it is MUCH safer. Why?\n",
    "mks = markers[:len(filenames)] \n",
    "fig = plt.figure()\n",
    "ax = fig.add_subplot(111)\n",
    "ax.set_xscale(\"log\")\n",
    "ax.set_yscale(\"log\")\n",
    "for filename,marker in zip(filenames,mks):\n",
    "    x, y = np.loadtxt(filename,unpack=True)\n",
    "    is_not_zero = y!=0\n",
    "    x, y = x[is_not_zero], y[is_not_zero]\n",
    "    yerr = y * 0.8\n",
    "    material, freq, meas = filename.split(\"_\")\n",
    "    lb = \"{0} Hz\".format(freq)\n",
    "    ax.errorbar(x,y,yerr,fmt=marker,label=lb)    \n",
    "ax.legend()\n",
    "ax.set_xlabel(\"$T$\", size=24)\n",
    "ax.set_ylabel(\"$\\omega^2 T$\", size=24)\n",
    "ax.annotate(\"$\\sum_i^\\infty x_i$\", (5e-5,.05), size=18)\n",
    "ax.set_title(\"Test 1\")\n"
   ]
  },
  {
   "cell_type": "code",
   "execution_count": 63,
   "metadata": {},
   "outputs": [
    {
     "data": {
      "text/plain": [
       "<zip at 0x7fd3700ed1c8>"
      ]
     },
     "execution_count": 63,
     "metadata": {},
     "output_type": "execute_result"
    }
   ],
   "source": [
    "# Zip is a nice tool to join to arrays, or list\n",
    "zip(filenames, mks)"
   ]
  },
  {
   "cell_type": "code",
   "execution_count": 64,
   "metadata": {},
   "outputs": [
    {
     "name": "stdout",
     "output_type": "stream",
     "text": [
      "F64ac_0.01_T.dat o\n",
      "F64ac_0.02_T.dat p\n",
      "F64ac_0.03_T.dat s\n"
     ]
    }
   ],
   "source": [
    "for filename, marker in zip(filenames, mks):\n",
    "    print(filename, marker)\n"
   ]
  },
  {
   "cell_type": "markdown",
   "metadata": {
    "collapsed": true
   },
   "source": [
    "### Satisfied?"
   ]
  },
  {
   "cell_type": "markdown",
   "metadata": {
    "collapsed": true
   },
   "source": [
    "Excercise\n",
    "=========\n",
    "The three files F64ac_freq_sp.dat are the power spectra $S$ of magnetic noise signals taken at three different frequencies $f_H$ of an applied magnetic field .\n",
    "\n",
    "I remember that the *amplitude* of the power spectra rescales, i.e. it is proportional, with the frequency $f_H$, but I do not remember if it is directly or inversely proportional.\n",
    "\n",
    "In other words, if $S / f_H$ or $S f_H$ shows a good collapse of the data.\n",
    "\n",
    "Would you please check it for me?\n",
    "\n",
    "ps. Or are they already rescaled?"
   ]
  }
 ],
 "metadata": {
  "kernelspec": {
   "display_name": "Python 3",
   "language": "python",
   "name": "python3"
  },
  "language_info": {
   "codemirror_mode": {
    "name": "ipython",
    "version": 3
   },
   "file_extension": ".py",
   "mimetype": "text/x-python",
   "name": "python",
   "nbconvert_exporter": "python",
   "pygments_lexer": "ipython3",
   "version": "3.7.1"
  }
 },
 "nbformat": 4,
 "nbformat_minor": 1
}
